{
 "cells": [
  {
   "cell_type": "code",
   "execution_count": 1,
   "metadata": {},
   "outputs": [],
   "source": [
    "import tensorflow as tf\n",
    "import numpy as np\n",
    "    \n",
    "physical_devices = tf.config.list_physical_devices('GPU') \n",
    "tf.config.experimental.set_memory_growth(physical_devices[0], True)\n",
    "\n",
    "#physical_devices = tf.config.experimental.list_physical_devices('GPU') \n",
    "#for physical_device in physical_devices: \n",
    "#    tf.config.experimental.set_memory_growth(physical_device, True)\n",
    "    \n",
    "#tf.keras.backend.set_floatx('float64') #SLOW DOWN\n",
    "\n",
    "from tensorflow import keras\n",
    "from tensorflow.keras.datasets.mnist import load_data\n",
    "from tensorflow.keras import Sequential\n",
    "from tensorflow.keras.layers import Dense\n",
    "from tensorflow.keras.layers import Conv2D\n",
    "from tensorflow.keras.layers import MaxPool2D\n",
    "from tensorflow.keras.layers import Flatten\n",
    "from tensorflow.keras.layers import Dropout\n",
    "from tensorflow.keras.utils import to_categorical"
   ]
  },
  {
   "cell_type": "code",
   "execution_count": 2,
   "metadata": {},
   "outputs": [],
   "source": [
    "(X_train,y_train), (X_test, y_test) = load_data()\n",
    "X_train = X_train.reshape(60000,28,28,1).astype('float32')\n",
    "X_test = X_test.reshape(10000,28,28,1).astype('float32')\n",
    "\n",
    "X_train /= 255\n",
    "X_test /= 255"
   ]
  },
  {
   "cell_type": "code",
   "execution_count": 3,
   "metadata": {},
   "outputs": [],
   "source": [
    "n_classes = 10\n",
    "y_train = to_categorical(y_train, n_classes)\n",
    "y_test = to_categorical(y_test, n_classes)"
   ]
  },
  {
   "cell_type": "code",
   "execution_count": 4,
   "metadata": {},
   "outputs": [],
   "source": [
    "model = Sequential()\n",
    "model.add(Conv2D(32, kernel_size=(3,3), activation='relu', input_shape=(28,28,1)))\n",
    "model.add(Conv2D(64, kernel_size=(3,3), activation='relu'))\n",
    "model.add(MaxPool2D(pool_size=(2,2)))\n",
    "model.add(Dropout(0.5))\n",
    "model.add(Flatten())          \n",
    "model.add(Dense(128, activation='relu'))\n",
    "model.add(Dropout(0.5))\n",
    "model.add(Dense(n_classes, activation='softmax'))"
   ]
  },
  {
   "cell_type": "code",
   "execution_count": 5,
   "metadata": {},
   "outputs": [],
   "source": [
    "model.compile(loss='categorical_crossentropy', optimizer='adam', metrics=['accuracy'])"
   ]
  },
  {
   "cell_type": "code",
   "execution_count": null,
   "metadata": {},
   "outputs": [
    {
     "name": "stdout",
     "output_type": "stream",
     "text": [
      "Epoch 1/15\n",
      "469/469 [==============================] - 13s 12ms/step - loss: 0.2675 - accuracy: 0.9180 - val_loss: 0.0577 - val_accuracy: 0.9815\n",
      "Epoch 2/15\n",
      "469/469 [==============================] - 5s 10ms/step - loss: 0.1005 - accuracy: 0.9702 - val_loss: 0.0407 - val_accuracy: 0.9864\n",
      "Epoch 3/15\n",
      "469/469 [==============================] - 5s 10ms/step - loss: 0.0740 - accuracy: 0.9772 - val_loss: 0.0329 - val_accuracy: 0.9887\n",
      "Epoch 4/15\n",
      "469/469 [==============================] - 5s 10ms/step - loss: 0.0607 - accuracy: 0.9816 - val_loss: 0.0308 - val_accuracy: 0.9897\n",
      "Epoch 5/15\n",
      "469/469 [==============================] - 5s 10ms/step - loss: 0.0546 - accuracy: 0.9831 - val_loss: 0.0330 - val_accuracy: 0.9901\n",
      "Epoch 6/15\n",
      "469/469 [==============================] - 5s 10ms/step - loss: 0.0491 - accuracy: 0.9847 - val_loss: 0.0262 - val_accuracy: 0.9920\n",
      "Epoch 7/15\n",
      "469/469 [==============================] - 5s 10ms/step - loss: 0.0458 - accuracy: 0.9857 - val_loss: 0.0252 - val_accuracy: 0.9920\n",
      "Epoch 8/15\n",
      "469/469 [==============================] - 5s 10ms/step - loss: 0.0394 - accuracy: 0.9873 - val_loss: 0.0262 - val_accuracy: 0.9914\n",
      "Epoch 9/15\n",
      "469/469 [==============================] - 5s 10ms/step - loss: 0.0401 - accuracy: 0.9873 - val_loss: 0.0273 - val_accuracy: 0.9909\n",
      "Epoch 10/15\n",
      " 13/469 [..............................] - ETA: 4s - loss: 0.0397 - accuracy: 0.9874"
     ]
    }
   ],
   "source": [
    "import time\n",
    "start = time.time()\n",
    "\n",
    "model.fit(X_train, y_train, batch_size=128, epochs=15, verbose=1, validation_data=(X_test,y_test))\n",
    "\n",
    "elapsed_time = time.time() - start\n",
    "print (\"elapsed_time:{0}\".format(elapsed_time) + \"[sec]\")"
   ]
  },
  {
   "cell_type": "code",
   "execution_count": null,
   "metadata": {},
   "outputs": [],
   "source": []
  }
 ],
 "metadata": {
  "kernelspec": {
   "display_name": "dl",
   "language": "python",
   "name": "dl"
  },
  "language_info": {
   "codemirror_mode": {
    "name": "ipython",
    "version": 3
   },
   "file_extension": ".py",
   "mimetype": "text/x-python",
   "name": "python",
   "nbconvert_exporter": "python",
   "pygments_lexer": "ipython3",
   "version": "3.8.10"
  }
 },
 "nbformat": 4,
 "nbformat_minor": 4
}
